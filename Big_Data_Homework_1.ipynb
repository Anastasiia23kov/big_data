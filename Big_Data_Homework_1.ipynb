{
 "cells": [
  {
   "cell_type": "markdown",
   "id": "48ff3590",
   "metadata": {},
   "source": [
    "## Задача. Сделать mapper и reducer, чтобы посчитать среднее и дисперсию оценок за фильм"
   ]
  },
  {
   "cell_type": "markdown",
   "id": "d1126dff",
   "metadata": {},
   "source": [
    "### 1 шаг. Подготовка окружения"
   ]
  },
  {
   "cell_type": "code",
   "execution_count": 13,
   "id": "cc2e9b6b",
   "metadata": {
    "scrolled": true
   },
   "outputs": [
    {
     "name": "stdout",
     "output_type": "stream",
     "text": [
      "Requirement already satisfied: opendatasets in ./anaconda3/lib/python3.10/site-packages (0.1.22)\r\n",
      "Requirement already satisfied: kaggle in ./anaconda3/lib/python3.10/site-packages (from opendatasets) (1.5.16)\r\n",
      "Requirement already satisfied: tqdm in ./anaconda3/lib/python3.10/site-packages (from opendatasets) (4.64.1)\r\n",
      "Requirement already satisfied: click in ./anaconda3/lib/python3.10/site-packages (from opendatasets) (8.0.4)\r\n",
      "Requirement already satisfied: six>=1.10 in ./anaconda3/lib/python3.10/site-packages (from kaggle->opendatasets) (1.16.0)\r\n",
      "Requirement already satisfied: requests in ./anaconda3/lib/python3.10/site-packages (from kaggle->opendatasets) (2.28.1)\r\n",
      "Requirement already satisfied: urllib3 in ./anaconda3/lib/python3.10/site-packages (from kaggle->opendatasets) (1.26.14)\r\n",
      "Requirement already satisfied: certifi in ./anaconda3/lib/python3.10/site-packages (from kaggle->opendatasets) (2023.5.7)\r\n",
      "Requirement already satisfied: python-dateutil in ./anaconda3/lib/python3.10/site-packages (from kaggle->opendatasets) (2.8.2)\r\n",
      "Requirement already satisfied: python-slugify in ./anaconda3/lib/python3.10/site-packages (from kaggle->opendatasets) (5.0.2)\r\n",
      "Requirement already satisfied: bleach in ./anaconda3/lib/python3.10/site-packages (from kaggle->opendatasets) (4.1.0)\r\n",
      "Requirement already satisfied: packaging in ./anaconda3/lib/python3.10/site-packages (from bleach->kaggle->opendatasets) (22.0)\r\n",
      "Requirement already satisfied: webencodings in ./anaconda3/lib/python3.10/site-packages (from bleach->kaggle->opendatasets) (0.5.1)\r\n",
      "Requirement already satisfied: text-unidecode>=1.3 in ./anaconda3/lib/python3.10/site-packages (from python-slugify->kaggle->opendatasets) (1.3)\r\n",
      "Requirement already satisfied: idna<4,>=2.5 in ./anaconda3/lib/python3.10/site-packages (from requests->kaggle->opendatasets) (3.4)\r\n",
      "Requirement already satisfied: charset-normalizer<3,>=2 in ./anaconda3/lib/python3.10/site-packages (from requests->kaggle->opendatasets) (2.0.4)\r\n"
     ]
    }
   ],
   "source": [
    "!pip install opendatasets"
   ]
  },
  {
   "cell_type": "markdown",
   "id": "443895c4",
   "metadata": {},
   "source": [
    "### 2 шаг. Загрузка библиотек"
   ]
  },
  {
   "cell_type": "code",
   "execution_count": 14,
   "id": "ed1334c0",
   "metadata": {},
   "outputs": [],
   "source": [
    "import opendatasets as od\n",
    "import pandas as pd\n",
    "import time\n",
    "from pathlib import Path\n",
    "\n",
    "from functools import reduce\n",
    "import json"
   ]
  },
  {
   "cell_type": "markdown",
   "id": "3c227c1c",
   "metadata": {},
   "source": [
    "### 3 шаг. Скачивание датасета"
   ]
  },
  {
   "cell_type": "code",
   "execution_count": 15,
   "id": "95496d28",
   "metadata": {
    "scrolled": true
   },
   "outputs": [
    {
     "name": "stdout",
     "output_type": "stream",
     "text": [
      "Please provide your Kaggle credentials to download this dataset. Learn more: http://bit.ly/kaggle-creds\n",
      "Your Kaggle username: anastasiakov\n",
      "Your Kaggle Key: ········\n",
      "Downloading imdb-user-reviews.zip to ./imdb-user-reviews\n"
     ]
    },
    {
     "name": "stderr",
     "output_type": "stream",
     "text": [
      "100%|██████████████████████████████████████| 15.1M/15.1M [00:02<00:00, 7.30MB/s]\n"
     ]
    },
    {
     "name": "stdout",
     "output_type": "stream",
     "text": [
      "\n"
     ]
    }
   ],
   "source": [
    "dataset_path = Path('imdb-user-reviews', 'song_lyrics.csv')\n",
    "if not dataset_path.is_file():\n",
    "    od.download('https://www.kaggle.com/datasets/sadmadlad/imdb-user-reviews')"
   ]
  },
  {
   "cell_type": "markdown",
   "id": "74498ccc",
   "metadata": {},
   "source": [
    "### 4 шаг. Реализация через цикл \n",
    "\n",
    "(предпогаем, что мы не знаем сколько у нас фильмов):"
   ]
  },
  {
   "cell_type": "code",
   "execution_count": 20,
   "id": "2685b03c",
   "metadata": {},
   "outputs": [
    {
     "name": "stdout",
     "output_type": "stream",
     "text": [
      "8.030000000000001 1.0517128885774867\n"
     ]
    }
   ],
   "source": [
    "n, mean, M2 = 0, 0.0, 0\n",
    "for path in Path('imdb-user-reviews').glob('**/*'):\n",
    "    if path.is_file() and path.suffix == '.json':\n",
    "        with open(path, 'r') as f:\n",
    "            info = json.load(f)\n",
    "        score = float(info['movieIMDbRating'])\n",
    "        n += 1\n",
    "        delta = score - mean\n",
    "        mean += delta / n\n",
    "        M2 += delta * (score - mean)\n",
    "\n",
    "print(mean, (M2 / n) ** (1/2))"
   ]
  },
  {
   "cell_type": "markdown",
   "id": "e6f0f06a",
   "metadata": {},
   "source": [
    "### 5 шаг. На основе этого кода соберите mapper и reducer:"
   ]
  },
  {
   "cell_type": "code",
   "execution_count": 80,
   "id": "a2280909",
   "metadata": {},
   "outputs": [],
   "source": [
    "# достаем рейтинг из файла\n",
    "def mapper(path):\n",
    "    if path.is_file() and path.suffix == '.json':\n",
    "        # записываем json-файл в переменную file\n",
    "        with open(path, \"r\") as file:\n",
    "            # .load(file) - записываем данные из json-файла в переменную info\n",
    "            info = json.load(file)\n",
    "            score = (info[\"movieIMDbRating\"])\n",
    "        # score, - без запятой не возвращает, выдает ошибку  \n",
    "        return (score,)\n",
    "\n",
    "    \n",
    "def reducer(score_data1, score_data2):\n",
    "    if score_data1 is None and score_data2 is None:\n",
    "        return None\n",
    "    elif score_data1 is None:\n",
    "        return score_data2\n",
    "    elif score_data2 is None:\n",
    "        return score_data1\n",
    "    else:\n",
    "        scores = []\n",
    "        if len(score_data1) == 1:\n",
    "            n, mean, s = 0, 0.0, 0\n",
    "            scores.append(score_data1[0])\n",
    "        else:\n",
    "            n, mean, s = score_data1\n",
    "        scores.append(score_data2[0])        \n",
    "        for score in scores:\n",
    "            # n - кол-во оценок\n",
    "            n += 1\n",
    "            # delta - разница между оценкой и средней оценкой\n",
    "            delta = score - mean\n",
    "            # средняя оценка\n",
    "            mean += delta / n\n",
    "            # s - сумма всех разностей между оценками и средней оценкой\n",
    "            s += (score - mean) * delta\n",
    "        return n, mean, s"
   ]
  },
  {
   "cell_type": "code",
   "execution_count": 81,
   "id": "00ff6c0d",
   "metadata": {},
   "outputs": [
    {
     "name": "stdout",
     "output_type": "stream",
     "text": [
      "среднее = 8.030000000000001\n",
      "дисперсия = 1.106100000000001\n",
      "стандартное отклонение = 1.0517128885774867\n",
      "CPU times: user 3.16 ms, sys: 4.78 ms, total: 7.94 ms\n",
      "Wall time: 8.82 ms\n"
     ]
    }
   ],
   "source": [
    "%%time\n",
    "n, mean, s = reduce(reducer, map(mapper, Path('imdb-user-reviews').glob('**/*')))\n",
    "\n",
    "print(\"среднее =\", mean)   \n",
    "print(\"дисперсия =\", (s / n))    \n",
    "print(\"стандартное отклонение =\", (s / n) ** (1/2))   "
   ]
  },
  {
   "cell_type": "code",
   "execution_count": null,
   "id": "f09920f4",
   "metadata": {},
   "outputs": [],
   "source": []
  }
 ],
 "metadata": {
  "kernelspec": {
   "display_name": "Python 3 (ipykernel)",
   "language": "python",
   "name": "python3"
  },
  "language_info": {
   "codemirror_mode": {
    "name": "ipython",
    "version": 3
   },
   "file_extension": ".py",
   "mimetype": "text/x-python",
   "name": "python",
   "nbconvert_exporter": "python",
   "pygments_lexer": "ipython3",
   "version": "3.10.9"
  }
 },
 "nbformat": 4,
 "nbformat_minor": 5
}
