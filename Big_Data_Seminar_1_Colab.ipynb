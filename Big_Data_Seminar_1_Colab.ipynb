{
  "nbformat": 4,
  "nbformat_minor": 0,
  "metadata": {
    "colab": {
      "provenance": [],
      "gpuType": "T4",
      "authorship_tag": "ABX9TyO+V6L6pwCiPffOcHWePoTj",
      "include_colab_link": true
    },
    "kernelspec": {
      "name": "python3",
      "display_name": "Python 3"
    },
    "language_info": {
      "name": "python"
    },
    "accelerator": "GPU"
  },
  "cells": [
    {
      "cell_type": "markdown",
      "metadata": {
        "id": "view-in-github",
        "colab_type": "text"
      },
      "source": [
        "<a href=\"https://colab.research.google.com/github/Anastasiia23kov/big_data/blob/main/Big_Data_Seminar_1_Colab.ipynb\" target=\"_parent\"><img src=\"https://colab.research.google.com/assets/colab-badge.svg\" alt=\"Open In Colab\"/></a>"
      ]
    },
    {
      "cell_type": "markdown",
      "source": [
        "## О работе с Google Colab."
      ],
      "metadata": {
        "id": "-MqV-FxHXBNo"
      }
    },
    {
      "cell_type": "code",
      "execution_count": null,
      "metadata": {
        "colab": {
          "base_uri": "https://localhost:8080/",
          "height": 293
        },
        "id": "wnl5Zje6yVMD",
        "outputId": "cc47d3cb-9947-409a-da42-fc2080bd1ef5"
      },
      "outputs": [
        {
          "output_type": "execute_result",
          "data": {
            "text/plain": [
              "                  Name       Year Episodes   Type  Rating  \\\n",
              "0      1. Breaking Bad  2008–2013   62 eps  TV-MA     9.5   \n",
              "1   2. Planet Earth II       2016    6 eps   TV-G     9.5   \n",
              "2      3. Planet Earth       2006   11 eps  TV-PG     9.4   \n",
              "3  4. Band of Brothers       2001   10 eps  TV-MA     9.4   \n",
              "4         5. Chernobyl       2019    5 eps  TV-MA     9.4   \n",
              "\n",
              "                                           Image-src  \\\n",
              "0  https://m.media-amazon.com/images/M/MV5BYmQ4YW...   \n",
              "1  https://m.media-amazon.com/images/M/MV5BMGZmYm...   \n",
              "2  https://m.media-amazon.com/images/M/MV5BMzMyYj...   \n",
              "3  https://m.media-amazon.com/images/M/MV5BMTI3OD...   \n",
              "4  https://m.media-amazon.com/images/M/MV5BNTdkN2...   \n",
              "\n",
              "                                         Description  \\\n",
              "0  A chemistry teacher diagnosed with inoperable ...   \n",
              "1  David Attenborough returns with a new wildlife...   \n",
              "2  A documentary series on the wildlife found on ...   \n",
              "3  The story of Easy Company of the U.S. Army 101...   \n",
              "4  In April 1986, an explosion at the Chernobyl n...   \n",
              "\n",
              "                                           Name-href  \n",
              "0  https://www.imdb.com/title/tt0903747/?ref_=cht...  \n",
              "1  https://www.imdb.com/title/tt5491994/?ref_=cht...  \n",
              "2  https://www.imdb.com/title/tt0795176/?ref_=cht...  \n",
              "3  https://www.imdb.com/title/tt0185906/?ref_=cht...  \n",
              "4  https://www.imdb.com/title/tt7366338/?ref_=cht...  "
            ],
            "text/html": [
              "\n",
              "  <div id=\"df-a4fd0c0b-7306-4305-98da-2bdfd9cbeddc\" class=\"colab-df-container\">\n",
              "    <div>\n",
              "<style scoped>\n",
              "    .dataframe tbody tr th:only-of-type {\n",
              "        vertical-align: middle;\n",
              "    }\n",
              "\n",
              "    .dataframe tbody tr th {\n",
              "        vertical-align: top;\n",
              "    }\n",
              "\n",
              "    .dataframe thead th {\n",
              "        text-align: right;\n",
              "    }\n",
              "</style>\n",
              "<table border=\"1\" class=\"dataframe\">\n",
              "  <thead>\n",
              "    <tr style=\"text-align: right;\">\n",
              "      <th></th>\n",
              "      <th>Name</th>\n",
              "      <th>Year</th>\n",
              "      <th>Episodes</th>\n",
              "      <th>Type</th>\n",
              "      <th>Rating</th>\n",
              "      <th>Image-src</th>\n",
              "      <th>Description</th>\n",
              "      <th>Name-href</th>\n",
              "    </tr>\n",
              "  </thead>\n",
              "  <tbody>\n",
              "    <tr>\n",
              "      <th>0</th>\n",
              "      <td>1. Breaking Bad</td>\n",
              "      <td>2008–2013</td>\n",
              "      <td>62 eps</td>\n",
              "      <td>TV-MA</td>\n",
              "      <td>9.5</td>\n",
              "      <td>https://m.media-amazon.com/images/M/MV5BYmQ4YW...</td>\n",
              "      <td>A chemistry teacher diagnosed with inoperable ...</td>\n",
              "      <td>https://www.imdb.com/title/tt0903747/?ref_=cht...</td>\n",
              "    </tr>\n",
              "    <tr>\n",
              "      <th>1</th>\n",
              "      <td>2. Planet Earth II</td>\n",
              "      <td>2016</td>\n",
              "      <td>6 eps</td>\n",
              "      <td>TV-G</td>\n",
              "      <td>9.5</td>\n",
              "      <td>https://m.media-amazon.com/images/M/MV5BMGZmYm...</td>\n",
              "      <td>David Attenborough returns with a new wildlife...</td>\n",
              "      <td>https://www.imdb.com/title/tt5491994/?ref_=cht...</td>\n",
              "    </tr>\n",
              "    <tr>\n",
              "      <th>2</th>\n",
              "      <td>3. Planet Earth</td>\n",
              "      <td>2006</td>\n",
              "      <td>11 eps</td>\n",
              "      <td>TV-PG</td>\n",
              "      <td>9.4</td>\n",
              "      <td>https://m.media-amazon.com/images/M/MV5BMzMyYj...</td>\n",
              "      <td>A documentary series on the wildlife found on ...</td>\n",
              "      <td>https://www.imdb.com/title/tt0795176/?ref_=cht...</td>\n",
              "    </tr>\n",
              "    <tr>\n",
              "      <th>3</th>\n",
              "      <td>4. Band of Brothers</td>\n",
              "      <td>2001</td>\n",
              "      <td>10 eps</td>\n",
              "      <td>TV-MA</td>\n",
              "      <td>9.4</td>\n",
              "      <td>https://m.media-amazon.com/images/M/MV5BMTI3OD...</td>\n",
              "      <td>The story of Easy Company of the U.S. Army 101...</td>\n",
              "      <td>https://www.imdb.com/title/tt0185906/?ref_=cht...</td>\n",
              "    </tr>\n",
              "    <tr>\n",
              "      <th>4</th>\n",
              "      <td>5. Chernobyl</td>\n",
              "      <td>2019</td>\n",
              "      <td>5 eps</td>\n",
              "      <td>TV-MA</td>\n",
              "      <td>9.4</td>\n",
              "      <td>https://m.media-amazon.com/images/M/MV5BNTdkN2...</td>\n",
              "      <td>In April 1986, an explosion at the Chernobyl n...</td>\n",
              "      <td>https://www.imdb.com/title/tt7366338/?ref_=cht...</td>\n",
              "    </tr>\n",
              "  </tbody>\n",
              "</table>\n",
              "</div>\n",
              "    <div class=\"colab-df-buttons\">\n",
              "\n",
              "  <div class=\"colab-df-container\">\n",
              "    <button class=\"colab-df-convert\" onclick=\"convertToInteractive('df-a4fd0c0b-7306-4305-98da-2bdfd9cbeddc')\"\n",
              "            title=\"Convert this dataframe to an interactive table.\"\n",
              "            style=\"display:none;\">\n",
              "\n",
              "  <svg xmlns=\"http://www.w3.org/2000/svg\" height=\"24px\" viewBox=\"0 -960 960 960\">\n",
              "    <path d=\"M120-120v-720h720v720H120Zm60-500h600v-160H180v160Zm220 220h160v-160H400v160Zm0 220h160v-160H400v160ZM180-400h160v-160H180v160Zm440 0h160v-160H620v160ZM180-180h160v-160H180v160Zm440 0h160v-160H620v160Z\"/>\n",
              "  </svg>\n",
              "    </button>\n",
              "\n",
              "  <style>\n",
              "    .colab-df-container {\n",
              "      display:flex;\n",
              "      gap: 12px;\n",
              "    }\n",
              "\n",
              "    .colab-df-convert {\n",
              "      background-color: #E8F0FE;\n",
              "      border: none;\n",
              "      border-radius: 50%;\n",
              "      cursor: pointer;\n",
              "      display: none;\n",
              "      fill: #1967D2;\n",
              "      height: 32px;\n",
              "      padding: 0 0 0 0;\n",
              "      width: 32px;\n",
              "    }\n",
              "\n",
              "    .colab-df-convert:hover {\n",
              "      background-color: #E2EBFA;\n",
              "      box-shadow: 0px 1px 2px rgba(60, 64, 67, 0.3), 0px 1px 3px 1px rgba(60, 64, 67, 0.15);\n",
              "      fill: #174EA6;\n",
              "    }\n",
              "\n",
              "    .colab-df-buttons div {\n",
              "      margin-bottom: 4px;\n",
              "    }\n",
              "\n",
              "    [theme=dark] .colab-df-convert {\n",
              "      background-color: #3B4455;\n",
              "      fill: #D2E3FC;\n",
              "    }\n",
              "\n",
              "    [theme=dark] .colab-df-convert:hover {\n",
              "      background-color: #434B5C;\n",
              "      box-shadow: 0px 1px 3px 1px rgba(0, 0, 0, 0.15);\n",
              "      filter: drop-shadow(0px 1px 2px rgba(0, 0, 0, 0.3));\n",
              "      fill: #FFFFFF;\n",
              "    }\n",
              "  </style>\n",
              "\n",
              "    <script>\n",
              "      const buttonEl =\n",
              "        document.querySelector('#df-a4fd0c0b-7306-4305-98da-2bdfd9cbeddc button.colab-df-convert');\n",
              "      buttonEl.style.display =\n",
              "        google.colab.kernel.accessAllowed ? 'block' : 'none';\n",
              "\n",
              "      async function convertToInteractive(key) {\n",
              "        const element = document.querySelector('#df-a4fd0c0b-7306-4305-98da-2bdfd9cbeddc');\n",
              "        const dataTable =\n",
              "          await google.colab.kernel.invokeFunction('convertToInteractive',\n",
              "                                                    [key], {});\n",
              "        if (!dataTable) return;\n",
              "\n",
              "        const docLinkHtml = 'Like what you see? Visit the ' +\n",
              "          '<a target=\"_blank\" href=https://colab.research.google.com/notebooks/data_table.ipynb>data table notebook</a>'\n",
              "          + ' to learn more about interactive tables.';\n",
              "        element.innerHTML = '';\n",
              "        dataTable['output_type'] = 'display_data';\n",
              "        await google.colab.output.renderOutput(dataTable, element);\n",
              "        const docLink = document.createElement('div');\n",
              "        docLink.innerHTML = docLinkHtml;\n",
              "        element.appendChild(docLink);\n",
              "      }\n",
              "    </script>\n",
              "  </div>\n",
              "\n",
              "\n",
              "<div id=\"df-85f1eb5d-871b-42e2-862a-8eb1d5073181\">\n",
              "  <button class=\"colab-df-quickchart\" onclick=\"quickchart('df-85f1eb5d-871b-42e2-862a-8eb1d5073181')\"\n",
              "            title=\"Suggest charts.\"\n",
              "            style=\"display:none;\">\n",
              "\n",
              "<svg xmlns=\"http://www.w3.org/2000/svg\" height=\"24px\"viewBox=\"0 0 24 24\"\n",
              "     width=\"24px\">\n",
              "    <g>\n",
              "        <path d=\"M19 3H5c-1.1 0-2 .9-2 2v14c0 1.1.9 2 2 2h14c1.1 0 2-.9 2-2V5c0-1.1-.9-2-2-2zM9 17H7v-7h2v7zm4 0h-2V7h2v10zm4 0h-2v-4h2v4z\"/>\n",
              "    </g>\n",
              "</svg>\n",
              "  </button>\n",
              "\n",
              "<style>\n",
              "  .colab-df-quickchart {\n",
              "      --bg-color: #E8F0FE;\n",
              "      --fill-color: #1967D2;\n",
              "      --hover-bg-color: #E2EBFA;\n",
              "      --hover-fill-color: #174EA6;\n",
              "      --disabled-fill-color: #AAA;\n",
              "      --disabled-bg-color: #DDD;\n",
              "  }\n",
              "\n",
              "  [theme=dark] .colab-df-quickchart {\n",
              "      --bg-color: #3B4455;\n",
              "      --fill-color: #D2E3FC;\n",
              "      --hover-bg-color: #434B5C;\n",
              "      --hover-fill-color: #FFFFFF;\n",
              "      --disabled-bg-color: #3B4455;\n",
              "      --disabled-fill-color: #666;\n",
              "  }\n",
              "\n",
              "  .colab-df-quickchart {\n",
              "    background-color: var(--bg-color);\n",
              "    border: none;\n",
              "    border-radius: 50%;\n",
              "    cursor: pointer;\n",
              "    display: none;\n",
              "    fill: var(--fill-color);\n",
              "    height: 32px;\n",
              "    padding: 0;\n",
              "    width: 32px;\n",
              "  }\n",
              "\n",
              "  .colab-df-quickchart:hover {\n",
              "    background-color: var(--hover-bg-color);\n",
              "    box-shadow: 0 1px 2px rgba(60, 64, 67, 0.3), 0 1px 3px 1px rgba(60, 64, 67, 0.15);\n",
              "    fill: var(--button-hover-fill-color);\n",
              "  }\n",
              "\n",
              "  .colab-df-quickchart-complete:disabled,\n",
              "  .colab-df-quickchart-complete:disabled:hover {\n",
              "    background-color: var(--disabled-bg-color);\n",
              "    fill: var(--disabled-fill-color);\n",
              "    box-shadow: none;\n",
              "  }\n",
              "\n",
              "  .colab-df-spinner {\n",
              "    border: 2px solid var(--fill-color);\n",
              "    border-color: transparent;\n",
              "    border-bottom-color: var(--fill-color);\n",
              "    animation:\n",
              "      spin 1s steps(1) infinite;\n",
              "  }\n",
              "\n",
              "  @keyframes spin {\n",
              "    0% {\n",
              "      border-color: transparent;\n",
              "      border-bottom-color: var(--fill-color);\n",
              "      border-left-color: var(--fill-color);\n",
              "    }\n",
              "    20% {\n",
              "      border-color: transparent;\n",
              "      border-left-color: var(--fill-color);\n",
              "      border-top-color: var(--fill-color);\n",
              "    }\n",
              "    30% {\n",
              "      border-color: transparent;\n",
              "      border-left-color: var(--fill-color);\n",
              "      border-top-color: var(--fill-color);\n",
              "      border-right-color: var(--fill-color);\n",
              "    }\n",
              "    40% {\n",
              "      border-color: transparent;\n",
              "      border-right-color: var(--fill-color);\n",
              "      border-top-color: var(--fill-color);\n",
              "    }\n",
              "    60% {\n",
              "      border-color: transparent;\n",
              "      border-right-color: var(--fill-color);\n",
              "    }\n",
              "    80% {\n",
              "      border-color: transparent;\n",
              "      border-right-color: var(--fill-color);\n",
              "      border-bottom-color: var(--fill-color);\n",
              "    }\n",
              "    90% {\n",
              "      border-color: transparent;\n",
              "      border-bottom-color: var(--fill-color);\n",
              "    }\n",
              "  }\n",
              "</style>\n",
              "\n",
              "  <script>\n",
              "    async function quickchart(key) {\n",
              "      const quickchartButtonEl =\n",
              "        document.querySelector('#' + key + ' button');\n",
              "      quickchartButtonEl.disabled = true;  // To prevent multiple clicks.\n",
              "      quickchartButtonEl.classList.add('colab-df-spinner');\n",
              "      try {\n",
              "        const charts = await google.colab.kernel.invokeFunction(\n",
              "            'suggestCharts', [key], {});\n",
              "      } catch (error) {\n",
              "        console.error('Error during call to suggestCharts:', error);\n",
              "      }\n",
              "      quickchartButtonEl.classList.remove('colab-df-spinner');\n",
              "      quickchartButtonEl.classList.add('colab-df-quickchart-complete');\n",
              "    }\n",
              "    (() => {\n",
              "      let quickchartButtonEl =\n",
              "        document.querySelector('#df-85f1eb5d-871b-42e2-862a-8eb1d5073181 button');\n",
              "      quickchartButtonEl.style.display =\n",
              "        google.colab.kernel.accessAllowed ? 'block' : 'none';\n",
              "    })();\n",
              "  </script>\n",
              "</div>\n",
              "    </div>\n",
              "  </div>\n"
            ]
          },
          "metadata": {},
          "execution_count": 1
        }
      ],
      "source": [
        "import pandas as pd\n",
        "\n",
        "# чтение csv файла\n",
        "df = pd.read_csv(\"IMDB.csv\")\n",
        "df.head()"
      ]
    },
    {
      "cell_type": "code",
      "source": [
        "# создание нового csv файла\n",
        "new_df = df[[\"Name\", \"Year\"]].drop_duplicates()\n",
        "new_df.to_csv('IMDB_only_name_and_year.csv')\n",
        "\n",
        "# появляется в файлах в левой части экрана\n",
        "# можем его скачать"
      ],
      "metadata": {
        "id": "woB09LRR68Hx"
      },
      "execution_count": null,
      "outputs": []
    },
    {
      "cell_type": "code",
      "source": [
        "# загрузка файла по ссылке\n",
        "!wget -q https://...\n"
      ],
      "metadata": {
        "id": "CiBo_XUS7lTH"
      },
      "execution_count": null,
      "outputs": []
    },
    {
      "cell_type": "markdown",
      "source": [
        "## Задача 3. Multiprocessing через Colab.\n",
        "\n",
        "Найти сумму вложенных списков."
      ],
      "metadata": {
        "id": "CIHbXf_FWHMT"
      }
    },
    {
      "cell_type": "code",
      "source": [
        "# tqdm - позволяет строить прогресс бар, который отражает, сколько будет выполняться запрос\n",
        "from tqdm import tqdm\n",
        "\n",
        "import numpy as np\n",
        "\n",
        "from multiprocessing import Pool\n",
        "POOL_THREADS = 2\n",
        "\n",
        "\n",
        "# def fmmult(t) - функция для полсчета суммы чисел вложенных списков\n",
        "def fmmult(t):\n",
        "    return np.sum(t)\n",
        "\n",
        "def predict_function_multy_tqdm_light(vector, POOL_THREADS):\n",
        "    jobs = [x for x in vector]\n",
        "    pool = Pool(POOL_THREADS)\n",
        "    # передаем в .pool функцию fmmult и наши данные jobs\n",
        "    found = list(tqdm(pool.imap(fmmult, jobs), total = len(jobs)))\n",
        "    pool.close()\n",
        "    pool.join()\n",
        "    return found"
      ],
      "metadata": {
        "id": "8TinHMPk8TDe"
      },
      "execution_count": null,
      "outputs": []
    },
    {
      "cell_type": "code",
      "source": [
        "# vector - наш массив данных - нужно найти суммы всех вложенных списков\n",
        "vector = [[1,2,3], [4,5,6], [7,8,9],[1,2,3], [4,5,6], [7,8,9],[1,2,3], [4,5,6], [7,8,9],[1,2,3], [4,5,6], [7,8,9]] * 100000\n",
        "\n",
        "# v - полученные суммы\n",
        "v = predict_function_multy_tqdm_light(vector, POOL_THREADS)\n",
        "len(v)"
      ],
      "metadata": {
        "colab": {
          "base_uri": "https://localhost:8080/"
        },
        "id": "lC2J-VEb8bck",
        "outputId": "c81e4e92-e21b-42fc-d079-bb89851aba33"
      },
      "execution_count": null,
      "outputs": [
        {
          "output_type": "stream",
          "name": "stderr",
          "text": [
            "100%|██████████| 1200000/1200000 [02:03<00:00, 9740.26it/s] \n"
          ]
        },
        {
          "output_type": "execute_result",
          "data": {
            "text/plain": [
              "1200000"
            ]
          },
          "metadata": {},
          "execution_count": 3
        }
      ]
    },
    {
      "cell_type": "code",
      "source": [
        "# v - полученные суммы\n",
        "v"
      ],
      "metadata": {
        "id": "Ckad8hOO0-2y"
      },
      "execution_count": null,
      "outputs": []
    },
    {
      "cell_type": "code",
      "source": [
        "# сколько ядер на Colab\n",
        "\n",
        "import multiprocessing\n",
        "multiprocessing.cpu_count()\n",
        "\n",
        "# получаем 2 ядра - на Colab 2 ядра"
      ],
      "metadata": {
        "colab": {
          "base_uri": "https://localhost:8080/"
        },
        "id": "Dv_vWVQhXYu2",
        "outputId": "52e3546f-d8d0-4491-bb5c-89d8470c09fd"
      },
      "execution_count": null,
      "outputs": [
        {
          "output_type": "execute_result",
          "data": {
            "text/plain": [
              "2"
            ]
          },
          "metadata": {},
          "execution_count": 5
        }
      ]
    },
    {
      "cell_type": "code",
      "source": [],
      "metadata": {
        "id": "EgEWx4xjYtWJ"
      },
      "execution_count": null,
      "outputs": []
    }
  ]
}